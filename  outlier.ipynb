{
 "cells": [
  {
   "cell_type": "code",
   "execution_count": 1,
   "id": "c7e36529",
   "metadata": {},
   "outputs": [],
   "source": [
    "import pandas as pd"
   ]
  },
  {
   "cell_type": "code",
   "execution_count": 2,
   "id": "6f68d42b",
   "metadata": {},
   "outputs": [],
   "source": [
    "df=pd.read_csv(r\"C:\\Users\\kunal  kumar  pandey\\Downloads\\archive (12)\\boralasgamuwa_2012-2018.csv\")"
   ]
  },
  {
   "cell_type": "code",
   "execution_count": 3,
   "id": "4963e3b5",
   "metadata": {},
   "outputs": [
    {
     "data": {
      "text/html": [
       "<div>\n",
       "<style scoped>\n",
       "    .dataframe tbody tr th:only-of-type {\n",
       "        vertical-align: middle;\n",
       "    }\n",
       "\n",
       "    .dataframe tbody tr th {\n",
       "        vertical-align: top;\n",
       "    }\n",
       "\n",
       "    .dataframe thead th {\n",
       "        text-align: right;\n",
       "    }\n",
       "</style>\n",
       "<table border=\"1\" class=\"dataframe\">\n",
       "  <thead>\n",
       "    <tr style=\"text-align: right;\">\n",
       "      <th></th>\n",
       "      <th>area</th>\n",
       "      <th>ticket_date</th>\n",
       "      <th>waste_type</th>\n",
       "      <th>net_weight_kg</th>\n",
       "    </tr>\n",
       "  </thead>\n",
       "  <tbody>\n",
       "    <tr>\n",
       "      <th>0</th>\n",
       "      <td>Boralesgamuwa UC</td>\n",
       "      <td>2012-01-01</td>\n",
       "      <td>MSW</td>\n",
       "      <td>17340.0</td>\n",
       "    </tr>\n",
       "    <tr>\n",
       "      <th>1</th>\n",
       "      <td>Boralesgamuwa UC</td>\n",
       "      <td>2012-01-02</td>\n",
       "      <td>MSW</td>\n",
       "      <td>25980.0</td>\n",
       "    </tr>\n",
       "    <tr>\n",
       "      <th>2</th>\n",
       "      <td>Boralesgamuwa UC</td>\n",
       "      <td>2012-01-03</td>\n",
       "      <td>MSW</td>\n",
       "      <td>29220.0</td>\n",
       "    </tr>\n",
       "    <tr>\n",
       "      <th>3</th>\n",
       "      <td>Boralesgamuwa UC</td>\n",
       "      <td>2012-01-04</td>\n",
       "      <td>MSW</td>\n",
       "      <td>7450.0</td>\n",
       "    </tr>\n",
       "    <tr>\n",
       "      <th>4</th>\n",
       "      <td>Boralesgamuwa UC</td>\n",
       "      <td>2012-01-05</td>\n",
       "      <td>MSW</td>\n",
       "      <td>10520.0</td>\n",
       "    </tr>\n",
       "  </tbody>\n",
       "</table>\n",
       "</div>"
      ],
      "text/plain": [
       "               area ticket_date waste_type  net_weight_kg\n",
       "0  Boralesgamuwa UC  2012-01-01        MSW        17340.0\n",
       "1  Boralesgamuwa UC  2012-01-02        MSW        25980.0\n",
       "2  Boralesgamuwa UC  2012-01-03        MSW        29220.0\n",
       "3  Boralesgamuwa UC  2012-01-04        MSW         7450.0\n",
       "4  Boralesgamuwa UC  2012-01-05        MSW        10520.0"
      ]
     },
     "execution_count": 3,
     "metadata": {},
     "output_type": "execute_result"
    }
   ],
   "source": [
    "df.head()"
   ]
  },
  {
   "cell_type": "code",
   "execution_count": 4,
   "id": "83362198",
   "metadata": {},
   "outputs": [
    {
     "data": {
      "text/plain": [
       "area             0\n",
       "ticket_date      0\n",
       "waste_type       0\n",
       "net_weight_kg    0\n",
       "dtype: int64"
      ]
     },
     "execution_count": 4,
     "metadata": {},
     "output_type": "execute_result"
    }
   ],
   "source": [
    "df.isnull().sum()"
   ]
  },
  {
   "cell_type": "markdown",
   "id": "7f3f6d2a",
   "metadata": {},
   "source": [
    "## Deteceted Outlier"
   ]
  },
  {
   "cell_type": "markdown",
   "id": "21fe6bcb",
   "metadata": {},
   "source": [
    "# sorting formet"
   ]
  },
  {
   "cell_type": "code",
   "execution_count": 7,
   "id": "581da5f4",
   "metadata": {},
   "outputs": [
    {
     "data": {
      "text/html": [
       "<div>\n",
       "<style scoped>\n",
       "    .dataframe tbody tr th:only-of-type {\n",
       "        vertical-align: middle;\n",
       "    }\n",
       "\n",
       "    .dataframe tbody tr th {\n",
       "        vertical-align: top;\n",
       "    }\n",
       "\n",
       "    .dataframe thead th {\n",
       "        text-align: right;\n",
       "    }\n",
       "</style>\n",
       "<table border=\"1\" class=\"dataframe\">\n",
       "  <thead>\n",
       "    <tr style=\"text-align: right;\">\n",
       "      <th></th>\n",
       "      <th>net_weight_kg</th>\n",
       "    </tr>\n",
       "  </thead>\n",
       "  <tbody>\n",
       "    <tr>\n",
       "      <th>1383</th>\n",
       "      <td>215040.0</td>\n",
       "    </tr>\n",
       "    <tr>\n",
       "      <th>1413</th>\n",
       "      <td>166680.0</td>\n",
       "    </tr>\n",
       "    <tr>\n",
       "      <th>1298</th>\n",
       "      <td>159020.0</td>\n",
       "    </tr>\n",
       "    <tr>\n",
       "      <th>1088</th>\n",
       "      <td>89580.0</td>\n",
       "    </tr>\n",
       "    <tr>\n",
       "      <th>1304</th>\n",
       "      <td>87670.0</td>\n",
       "    </tr>\n",
       "  </tbody>\n",
       "</table>\n",
       "</div>"
      ],
      "text/plain": [
       "      net_weight_kg\n",
       "1383       215040.0\n",
       "1413       166680.0\n",
       "1298       159020.0\n",
       "1088        89580.0\n",
       "1304        87670.0"
      ]
     },
     "execution_count": 7,
     "metadata": {},
     "output_type": "execute_result"
    }
   ],
   "source": [
    "df.sort_values('net_weight_kg',ascending=False)[['net_weight_kg']].head()"
   ]
  },
  {
   "cell_type": "code",
   "execution_count": 9,
   "id": "8f7a03eb",
   "metadata": {},
   "outputs": [
    {
     "data": {
      "text/html": [
       "<div>\n",
       "<style scoped>\n",
       "    .dataframe tbody tr th:only-of-type {\n",
       "        vertical-align: middle;\n",
       "    }\n",
       "\n",
       "    .dataframe tbody tr th {\n",
       "        vertical-align: top;\n",
       "    }\n",
       "\n",
       "    .dataframe thead th {\n",
       "        text-align: right;\n",
       "    }\n",
       "</style>\n",
       "<table border=\"1\" class=\"dataframe\">\n",
       "  <thead>\n",
       "    <tr style=\"text-align: right;\">\n",
       "      <th></th>\n",
       "      <th>net_weight_kg</th>\n",
       "    </tr>\n",
       "  </thead>\n",
       "  <tbody>\n",
       "    <tr>\n",
       "      <th>2720</th>\n",
       "      <td>0.0</td>\n",
       "    </tr>\n",
       "    <tr>\n",
       "      <th>1579</th>\n",
       "      <td>0.0</td>\n",
       "    </tr>\n",
       "    <tr>\n",
       "      <th>2282</th>\n",
       "      <td>0.0</td>\n",
       "    </tr>\n",
       "    <tr>\n",
       "      <th>2161</th>\n",
       "      <td>0.0</td>\n",
       "    </tr>\n",
       "    <tr>\n",
       "      <th>1584</th>\n",
       "      <td>0.0</td>\n",
       "    </tr>\n",
       "  </tbody>\n",
       "</table>\n",
       "</div>"
      ],
      "text/plain": [
       "      net_weight_kg\n",
       "2720            0.0\n",
       "1579            0.0\n",
       "2282            0.0\n",
       "2161            0.0\n",
       "1584            0.0"
      ]
     },
     "execution_count": 9,
     "metadata": {},
     "output_type": "execute_result"
    }
   ],
   "source": [
    "df.sort_values('net_weight_kg',ascending=False)[['net_weight_kg']].tail()"
   ]
  },
  {
   "cell_type": "markdown",
   "id": "eb099c97",
   "metadata": {},
   "source": [
    "# Graphical Formet"
   ]
  },
  {
   "cell_type": "markdown",
   "id": "0249bc00",
   "metadata": {},
   "source": [
    "## box plot"
   ]
  },
  {
   "cell_type": "code",
   "execution_count": 12,
   "id": "7ffadffa",
   "metadata": {},
   "outputs": [],
   "source": [
    "import seaborn as sns\n",
    "import matplotlib.pyplot as plt"
   ]
  },
  {
   "cell_type": "code",
   "execution_count": 13,
   "id": "77d0c9a0",
   "metadata": {},
   "outputs": [
    {
     "data": {
      "image/png": "[encoded data removed]",
      "text/plain": [
       "<Figure size 432x288 with 1 Axes>"
      ]
     },
     "metadata": {
      "needs_background": "light"
     },
     "output_type": "display_data"
    }
   ],
   "source": [
    "sns.boxplot(data=df,x='net_weight_kg')\n",
    "plt.show()"
   ]
  },
  {
   "cell_type": "markdown",
   "id": "d5c1da63",
   "metadata": {},
   "source": [
    "## displot"
   ]
  },
  {
   "cell_type": "code",
   "execution_count": 15,
   "id": "beda9bf5",
   "metadata": {},
   "outputs": [
    {
     "data": {
      "image/png": "[encoded data removed]",
      "text/plain": [
       "<Figure size 360x360 with 1 Axes>"
      ]
     },
     "metadata": {
      "needs_background": "light"
     },
     "output_type": "display_data"
    }
   ],
   "source": [
    "sns.displot(data=df, x='net_weight_kg',bins=10,kde=True,color='red')\n",
    "plt.show()"
   ]
  },
  {
   "cell_type": "markdown",
   "id": "66a28b18",
   "metadata": {},
   "source": [
    "## Scatter plot"
   ]
  },
  {
   "cell_type": "code",
   "execution_count": 24,
   "id": "9ee38e2c",
   "metadata": {},
   "outputs": [
    {
     "data": {
      "text/plain": [
       "30682.5"
      ]
     },
     "execution_count": 24,
     "metadata": {},
     "output_type": "execute_result"
    }
   ],
   "source": [
    "q3=df['net_weight_kg'].quantile(0.75)\n",
    "q3"
   ]
  },
  {
   "cell_type": "code",
   "execution_count": 26,
   "id": "52c9effd",
   "metadata": {},
   "outputs": [
    {
     "data": {
      "text/plain": [
       "12767.5"
      ]
     },
     "execution_count": 26,
     "metadata": {},
     "output_type": "execute_result"
    }
   ],
   "source": [
    "q1=df['net_weight_kg'].quantile(0.25)\n",
    "q1"
   ]
  },
  {
   "cell_type": "code",
   "execution_count": 27,
   "id": "5d245356",
   "metadata": {},
   "outputs": [
    {
     "data": {
      "text/plain": [
       "17915.0"
      ]
     },
     "execution_count": 27,
     "metadata": {},
     "output_type": "execute_result"
    }
   ],
   "source": [
    "iqr=q3-q1\n",
    "iqr"
   ]
  },
  {
   "cell_type": "code",
   "execution_count": 28,
   "id": "8ccf67a4",
   "metadata": {},
   "outputs": [],
   "source": [
    "uper=q3 + (1.5 * iqr)\n",
    "lower=q1 - (1.5 * iqr)"
   ]
  },
  {
   "cell_type": "code",
   "execution_count": 29,
   "id": "1cdea076",
   "metadata": {},
   "outputs": [
    {
     "name": "stdout",
     "output_type": "stream",
     "text": [
      "57555.0 -14105.0\n"
     ]
    }
   ],
   "source": [
    "print(uper , lower)"
   ]
  },
  {
   "cell_type": "markdown",
   "id": "9486b62f",
   "metadata": {},
   "source": [
    "# how to handel the outlier"
   ]
  },
  {
   "cell_type": "markdown",
   "id": "a3829a8d",
   "metadata": {},
   "source": [
    "## delete upper and lower value below"
   ]
  },
  {
   "cell_type": "code",
   "execution_count": 30,
   "id": "af3a70d5",
   "metadata": {},
   "outputs": [],
   "source": [
    "import numpy as np"
   ]
  },
  {
   "cell_type": "code",
   "execution_count": 36,
   "id": "b5404278",
   "metadata": {},
   "outputs": [],
   "source": [
    "upper=np.where(df['net_weight_kg']>=uper)"
   ]
  },
  {
   "cell_type": "code",
   "execution_count": 37,
   "id": "4b5be9b2",
   "metadata": {},
   "outputs": [],
   "source": [
    "low=np.where(df['net_weight_kg']<=lower)"
   ]
  },
  {
   "cell_type": "code",
   "execution_count": 38,
   "id": "44e106df",
   "metadata": {},
   "outputs": [],
   "source": [
    "df.drop(upper[0],inplace=True)"
   ]
  },
  {
   "cell_type": "code",
   "execution_count": 39,
   "id": "feeaf8d6",
   "metadata": {},
   "outputs": [],
   "source": [
    "df.drop(low[0],inplace=True)"
   ]
  },
  {
   "cell_type": "code",
   "execution_count": 40,
   "id": "6f6553f9",
   "metadata": {},
   "outputs": [
    {
     "data": {
      "image/png": "[encoded data removed]",
      "text/plain": [
       "<Figure size 360x360 with 1 Axes>"
      ]
     },
     "metadata": {
      "needs_background": "light"
     },
     "output_type": "display_data"
    }
   ],
   "source": [
    "sns.displot(data=df, x='net_weight_kg',bins=10,kde=True,color='red')\n",
    "plt.show()"
   ]
  },
  {
   "cell_type": "markdown",
   "id": "95dddac0",
   "metadata": {},
   "source": [
    "# Replace outlier"
   ]
  },
  {
   "cell_type": "code",
   "execution_count": 41,
   "id": "1d25d8f3",
   "metadata": {},
   "outputs": [],
   "source": [
    "## converrt 'net_weight_kg' to array .value\n",
    "arr=df['net_weight_kg'].values"
   ]
  },
  {
   "cell_type": "code",
   "execution_count": 42,
   "id": "caf696d2",
   "metadata": {},
   "outputs": [],
   "source": [
    "true_index=(lower<arr) & (uper<arr)"
   ]
  },
  {
   "cell_type": "code",
   "execution_count": 43,
   "id": "b68fe0e0",
   "metadata": {},
   "outputs": [
    {
     "data": {
      "text/plain": [
       "array([False, False, False, ..., False, False, False])"
      ]
     },
     "execution_count": 43,
     "metadata": {},
     "output_type": "execute_result"
    }
   ],
   "source": [
    "true_index"
   ]
  },
  {
   "cell_type": "code",
   "execution_count": 45,
   "id": "0220ab52",
   "metadata": {},
   "outputs": [
    {
     "name": "stderr",
     "output_type": "stream",
     "text": [
      "C:\\ProgramData\\Anaconda3\\lib\\site-packages\\numpy\\core\\fromnumeric.py:3440: RuntimeWarning: Mean of empty slice.\n",
      "  return _methods._mean(a, axis=axis, dtype=dtype,\n",
      "C:\\ProgramData\\Anaconda3\\lib\\site-packages\\numpy\\core\\_methods.py:189: RuntimeWarning: invalid value encountered in double_scalars\n",
      "  ret = ret.dtype.type(ret / rcount)\n"
     ]
    }
   ],
   "source": [
    "mid=np.median(df['net_weight_kg'][true_index])"
   ]
  },
  {
   "cell_type": "code",
   "execution_count": 46,
   "id": "55888bbe",
   "metadata": {},
   "outputs": [
    {
     "data": {
      "text/plain": [
       "nan"
      ]
     },
     "execution_count": 46,
     "metadata": {},
     "output_type": "execute_result"
    }
   ],
   "source": [
    "mid"
   ]
  },
  {
   "cell_type": "code",
   "execution_count": 47,
   "id": "c034e90c",
   "metadata": {},
   "outputs": [],
   "source": [
    "false_index=~true_index\n",
    "df['net_weight_kg'].values[false_index]=mid"
   ]
  },
  {
   "cell_type": "code",
   "execution_count": 48,
   "id": "58238832",
   "metadata": {},
   "outputs": [
    {
     "data": {
      "text/html": [
       "<div>\n",
       "<style scoped>\n",
       "    .dataframe tbody tr th:only-of-type {\n",
       "        vertical-align: middle;\n",
       "    }\n",
       "\n",
       "    .dataframe tbody tr th {\n",
       "        vertical-align: top;\n",
       "    }\n",
       "\n",
       "    .dataframe thead th {\n",
       "        text-align: right;\n",
       "    }\n",
       "</style>\n",
       "<table border=\"1\" class=\"dataframe\">\n",
       "  <thead>\n",
       "    <tr style=\"text-align: right;\">\n",
       "      <th></th>\n",
       "      <th>area</th>\n",
       "      <th>ticket_date</th>\n",
       "      <th>waste_type</th>\n",
       "      <th>net_weight_kg</th>\n",
       "    </tr>\n",
       "  </thead>\n",
       "  <tbody>\n",
       "    <tr>\n",
       "      <th>0</th>\n",
       "      <td>Boralesgamuwa UC</td>\n",
       "      <td>2012-01-01</td>\n",
       "      <td>MSW</td>\n",
       "      <td>NaN</td>\n",
       "    </tr>\n",
       "    <tr>\n",
       "      <th>1</th>\n",
       "      <td>Boralesgamuwa UC</td>\n",
       "      <td>2012-01-02</td>\n",
       "      <td>MSW</td>\n",
       "      <td>NaN</td>\n",
       "    </tr>\n",
       "    <tr>\n",
       "      <th>2</th>\n",
       "      <td>Boralesgamuwa UC</td>\n",
       "      <td>2012-01-03</td>\n",
       "      <td>MSW</td>\n",
       "      <td>NaN</td>\n",
       "    </tr>\n",
       "    <tr>\n",
       "      <th>3</th>\n",
       "      <td>Boralesgamuwa UC</td>\n",
       "      <td>2012-01-04</td>\n",
       "      <td>MSW</td>\n",
       "      <td>NaN</td>\n",
       "    </tr>\n",
       "    <tr>\n",
       "      <th>4</th>\n",
       "      <td>Boralesgamuwa UC</td>\n",
       "      <td>2012-01-05</td>\n",
       "      <td>MSW</td>\n",
       "      <td>NaN</td>\n",
       "    </tr>\n",
       "    <tr>\n",
       "      <th>...</th>\n",
       "      <td>...</td>\n",
       "      <td>...</td>\n",
       "      <td>...</td>\n",
       "      <td>...</td>\n",
       "    </tr>\n",
       "    <tr>\n",
       "      <th>2983</th>\n",
       "      <td>Boralesgamuwa UC</td>\n",
       "      <td>2018-12-29</td>\n",
       "      <td>MSW</td>\n",
       "      <td>NaN</td>\n",
       "    </tr>\n",
       "    <tr>\n",
       "      <th>2984</th>\n",
       "      <td>Boralesgamuwa UC</td>\n",
       "      <td>2018-12-29</td>\n",
       "      <td>Sorted Organic Waste</td>\n",
       "      <td>NaN</td>\n",
       "    </tr>\n",
       "    <tr>\n",
       "      <th>2985</th>\n",
       "      <td>Boralesgamuwa UC</td>\n",
       "      <td>2018-12-30</td>\n",
       "      <td>MSW</td>\n",
       "      <td>NaN</td>\n",
       "    </tr>\n",
       "    <tr>\n",
       "      <th>2986</th>\n",
       "      <td>Boralesgamuwa UC</td>\n",
       "      <td>2018-12-31</td>\n",
       "      <td>MSW</td>\n",
       "      <td>NaN</td>\n",
       "    </tr>\n",
       "    <tr>\n",
       "      <th>2987</th>\n",
       "      <td>Boralesgamuwa UC</td>\n",
       "      <td>2018-12-31</td>\n",
       "      <td>Sorted Organic Waste</td>\n",
       "      <td>NaN</td>\n",
       "    </tr>\n",
       "  </tbody>\n",
       "</table>\n",
       "<p>2983 rows × 4 columns</p>\n",
       "</div>"
      ],
      "text/plain": [
       "                  area ticket_date            waste_type  net_weight_kg\n",
       "0     Boralesgamuwa UC  2012-01-01                   MSW            NaN\n",
       "1     Boralesgamuwa UC  2012-01-02                   MSW            NaN\n",
       "2     Boralesgamuwa UC  2012-01-03                   MSW            NaN\n",
       "3     Boralesgamuwa UC  2012-01-04                   MSW            NaN\n",
       "4     Boralesgamuwa UC  2012-01-05                   MSW            NaN\n",
       "...                ...         ...                   ...            ...\n",
       "2983  Boralesgamuwa UC  2018-12-29                   MSW            NaN\n",
       "2984  Boralesgamuwa UC  2018-12-29  Sorted Organic Waste            NaN\n",
       "2985  Boralesgamuwa UC  2018-12-30                   MSW            NaN\n",
       "2986  Boralesgamuwa UC  2018-12-31                   MSW            NaN\n",
       "2987  Boralesgamuwa UC  2018-12-31  Sorted Organic Waste            NaN\n",
       "\n",
       "[2983 rows x 4 columns]"
      ]
     },
     "execution_count": 48,
     "metadata": {},
     "output_type": "execute_result"
    }
   ],
   "source": [
    "df"
   ]
  },
  {
   "cell_type": "code",
   "execution_count": null,
   "id": "0bdf3ab8",
   "metadata": {},
   "outputs": [],
   "source": []
  }
 ],
 "metadata": {
  "kernelspec": {
   "display_name": "Python 3 (ipykernel)",
   "language": "python",
   "name": "python3"
  },
  "language_info": {
   "codemirror_mode": {
    "name": "ipython",
    "version": 3
   },
   "file_extension": ".py",
   "mimetype": "text/x-python",
   "name": "python",
   "nbconvert_exporter": "python",
   "pygments_lexer": "ipython3",
   "version": "3.9.12"
  }
 },
 "nbformat": 4,
 "nbformat_minor": 5
}
