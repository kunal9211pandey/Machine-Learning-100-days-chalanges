{
 "cells": [
  {
   "cell_type": "code",
   "execution_count": 1,
   "id": "fe64b068-1ea6-44a4-8875-60310af3a4d0",
   "metadata": {},
   "outputs": [],
   "source": [
    "import numpy"
   ]
  },
  {
   "cell_type": "code",
   "execution_count": 2,
   "id": "2ef19b4a-63b6-4b82-b1d0-3e1aa0cc4a0b",
   "metadata": {},
   "outputs": [
    {
     "name": "stdout",
     "output_type": "stream",
     "text": [
      "[12 23 45 67 88]\n"
     ]
    }
   ],
   "source": [
    "val=numpy.array([12,23,45,67,88])\n",
    "print(val)"
   ]
  },
  {
   "cell_type": "code",
   "execution_count": 3,
   "id": "b8fd1e39-3bd8-4265-b448-939860ab9d11",
   "metadata": {},
   "outputs": [
    {
     "name": "stdout",
     "output_type": "stream",
     "text": [
      "[12 23 45 67 89]\n"
     ]
    }
   ],
   "source": [
    "import numpy as np\n",
    "val=np.array([12,23,45,67,89])\n",
    "print(val)\n"
   ]
  },
  {
   "cell_type": "code",
   "execution_count": 4,
   "id": "9d5a2bbc-00ac-4497-900f-d525ad49f209",
   "metadata": {},
   "outputs": [
    {
     "name": "stdout",
     "output_type": "stream",
     "text": [
      "[  1  23  45   6  78 967]\n"
     ]
    }
   ],
   "source": [
    "from numpy import *\n",
    "val=array([1,23,45,6,78,967])\n",
    "print(val)"
   ]
  },
  {
   "cell_type": "code",
   "execution_count": 5,
   "id": "3337b693-468a-40e1-b79f-29740b76b250",
   "metadata": {},
   "outputs": [
    {
     "name": "stdout",
     "output_type": "stream",
     "text": [
      "[12 23 45 67 89]\n"
     ]
    }
   ],
   "source": [
    "# using array()\n",
    "from numpy import *\n",
    "val=array([12,23,45,67,89],int)\n",
    "print(val)"
   ]
  },
  {
   "cell_type": "code",
   "execution_count": 6,
   "id": "8a48e290-b773-4ac9-8e1b-ba7a862bd94f",
   "metadata": {},
   "outputs": [
    {
     "name": "stdout",
     "output_type": "stream",
     "text": [
      "[12. 23. 45. 67. 89.]\n"
     ]
    }
   ],
   "source": [
    "from numpy import *\n",
    "val=array([12,23,45,67,89],float)\n",
    "print(val)"
   ]
  },
  {
   "cell_type": "code",
   "execution_count": 8,
   "id": "6c6b137f-7faa-4bcc-86ad-1e9340bb6691",
   "metadata": {},
   "outputs": [
    {
     "name": "stdout",
     "output_type": "stream",
     "text": [
      "[12.  23.  45.9  9.  67.  89. ]\n"
     ]
    }
   ],
   "source": [
    "from numpy import *\n",
    "val=array([12,23,45.90,9,67,89])   # one float value but they are print all value float format\n",
    "print(val)"
   ]
  },
  {
   "cell_type": "code",
   "execution_count": 9,
   "id": "7564ce80-0a55-455b-8ece-5be13432dff9",
   "metadata": {},
   "outputs": [
    {
     "name": "stdout",
     "output_type": "stream",
     "text": [
      "['k' 'u' 'n' 'a' 'l']\n"
     ]
    }
   ],
   "source": [
    "char=array(['k','u','n','a','l'])\n",
    "print(char)"
   ]
  },
  {
   "cell_type": "code",
   "execution_count": 10,
   "id": "4b754caa-b995-4801-9566-6c79d0f39441",
   "metadata": {},
   "outputs": [
    {
     "name": "stdout",
     "output_type": "stream",
     "text": [
      "['kunal' 'vicky' 'shivam' 'kaushal']\n"
     ]
    }
   ],
   "source": [
    "str=array([\"kunal\",\"vicky\",\"shivam\",\"kaushal\"])\n",
    "print(str)"
   ]
  },
  {
   "cell_type": "code",
   "execution_count": 13,
   "id": "9927da1f-9f16-4e0d-ae95-10eedb9c862c",
   "metadata": {},
   "outputs": [
    {
     "name": "stdout",
     "output_type": "stream",
     "text": [
      "[1 2 3 4 5 6 7 8 9] [1 2 3 4 5 6 7 8 9] [1 2 3 4 5 6 7 8 9]\n"
     ]
    }
   ],
   "source": [
    "a=array([1,2,3,4,5,6,7,8,9])\n",
    "b=array(a)  # array()\n",
    "c=a           # assing a to c\n",
    "print(a,b,c)"
   ]
  },
  {
   "cell_type": "code",
   "execution_count": 15,
   "id": "204c448d-4f9e-4a92-8031-610d3a8e64d4",
   "metadata": {},
   "outputs": [
    {
     "name": "stdout",
     "output_type": "stream",
     "text": [
      "[ 0.   2.5  5.   7.5 10. ]\n"
     ]
    }
   ],
   "source": [
    "# using linspace()\n",
    "a=linspace(0,10,5)\n",
    "print(a)"
   ]
  },
  {
   "cell_type": "code",
   "execution_count": 16,
   "id": "48dda212-f99c-40d4-b158-6c7741dc6d95",
   "metadata": {},
   "outputs": [
    {
     "name": "stdout",
     "output_type": "stream",
     "text": [
      "[ 0.  2.  4.  6.  8. 10.]\n"
     ]
    }
   ],
   "source": [
    "a=linspace(0,10,6)  # 6 point\n",
    "print(a)"
   ]
  },
  {
   "cell_type": "code",
   "execution_count": 17,
   "id": "6de5962c-3dad-4b8f-b78c-cddf4e24625d",
   "metadata": {},
   "outputs": [
    {
     "name": "stdout",
     "output_type": "stream",
     "text": [
      "[ 0.          1.66666667  3.33333333  5.          6.66666667  8.33333333\n",
      " 10.        ]\n"
     ]
    }
   ],
   "source": [
    "a=linspace(0,10,7)\n",
    "print(a)"
   ]
  },
  {
   "cell_type": "code",
   "execution_count": 18,
   "id": "900ddd99-89c5-4747-a3fc-5de506251d40",
   "metadata": {},
   "outputs": [
    {
     "name": "stdout",
     "output_type": "stream",
     "text": [
      "[1.00000000e+00 3.16227766e+02 1.00000000e+05 3.16227766e+07\n",
      " 1.00000000e+10]\n"
     ]
    }
   ],
   "source": [
    "# logspace()\n",
    "a=logspace(0,10,5)\n",
    "print(a)"
   ]
  },
  {
   "cell_type": "code",
   "execution_count": 19,
   "id": "2fdc20ef-b6af-4199-a2f9-6fcadcbb3938",
   "metadata": {},
   "outputs": [
    {
     "data": {
      "text/plain": [
       "array([0, 2, 4, 6, 8])"
      ]
     },
     "execution_count": 19,
     "metadata": {},
     "output_type": "execute_result"
    }
   ],
   "source": [
    "# arange()\n",
    "arange(0,10,2)"
   ]
  },
  {
   "cell_type": "code",
   "execution_count": 20,
   "id": "b2f6fd86-ab58-453d-a1d3-ab9b75e075ed",
   "metadata": {},
   "outputs": [
    {
     "data": {
      "text/plain": [
       "array([0, 3, 6, 9])"
      ]
     },
     "execution_count": 20,
     "metadata": {},
     "output_type": "execute_result"
    }
   ],
   "source": [
    "arange(0,10,3)"
   ]
  },
  {
   "cell_type": "code",
   "execution_count": 22,
   "id": "8b46f3a8-ba86-4cde-9fe2-93c05ef85db7",
   "metadata": {},
   "outputs": [
    {
     "data": {
      "text/plain": [
       "array([10,  9,  8,  7,  6,  5,  4,  3,  2,  1])"
      ]
     },
     "execution_count": 22,
     "metadata": {},
     "output_type": "execute_result"
    }
   ],
   "source": [
    "arange(10,0,-1)"
   ]
  },
  {
   "cell_type": "code",
   "execution_count": 23,
   "id": "58b6c0ab-4dc3-4c96-a244-0771c4308e5b",
   "metadata": {},
   "outputs": [
    {
     "data": {
      "text/plain": [
       "array([0. , 1.5, 3. , 4.5, 6. , 7.5, 9. ])"
      ]
     },
     "execution_count": 23,
     "metadata": {},
     "output_type": "execute_result"
    }
   ],
   "source": [
    "arange(0,10,1.5)"
   ]
  },
  {
   "cell_type": "code",
   "execution_count": 24,
   "id": "d1fd414e-d8c4-4a27-a44f-8fbb9b9ea285",
   "metadata": {},
   "outputs": [
    {
     "data": {
      "text/plain": [
       "array([ 2,  4,  6,  8, 10])"
      ]
     },
     "execution_count": 24,
     "metadata": {},
     "output_type": "execute_result"
    }
   ],
   "source": [
    "# even number up to 10\n",
    "arange(2,11,2)"
   ]
  },
  {
   "cell_type": "code",
   "execution_count": 25,
   "id": "8dd2273c-1217-4edf-9bdc-d828f04d6daf",
   "metadata": {},
   "outputs": [
    {
     "data": {
      "text/plain": [
       "array([0, 0, 0, 0, 0, 0, 0, 0, 0, 0])"
      ]
     },
     "execution_count": 25,
     "metadata": {},
     "output_type": "execute_result"
    }
   ],
   "source": [
    "# zeros and ones\n",
    "zeros(10,int)"
   ]
  },
  {
   "cell_type": "code",
   "execution_count": 26,
   "id": "a62221ff-12c3-48e2-96f0-8c5642da12c7",
   "metadata": {},
   "outputs": [
    {
     "data": {
      "text/plain": [
       "array([1, 1, 1, 1, 1, 1, 1, 1, 1, 1])"
      ]
     },
     "execution_count": 26,
     "metadata": {},
     "output_type": "execute_result"
    }
   ],
   "source": [
    "ones(10,int)"
   ]
  },
  {
   "cell_type": "code",
   "execution_count": 27,
   "id": "8002bf89-5d28-4923-8295-31bfa3140f4a",
   "metadata": {},
   "outputs": [
    {
     "data": {
      "text/plain": [
       "array([1., 1., 1., 1., 1., 1., 1., 1., 1., 1.])"
      ]
     },
     "execution_count": 27,
     "metadata": {},
     "output_type": "execute_result"
    }
   ],
   "source": [
    "ones(10,float)"
   ]
  },
  {
   "cell_type": "code",
   "execution_count": 28,
   "id": "69a12d32-0909-4ed8-8613-888dc08bd4b2",
   "metadata": {},
   "outputs": [
    {
     "data": {
      "text/plain": [
       "array([1., 1., 1., 1., 1., 1., 1., 1., 1., 1.])"
      ]
     },
     "execution_count": 28,
     "metadata": {},
     "output_type": "execute_result"
    }
   ],
   "source": [
    "# bydefult data type is float\n",
    "ones(10)"
   ]
  },
  {
   "cell_type": "code",
   "execution_count": 29,
   "id": "84e982e7-901f-4b43-97c8-1497ffdf223d",
   "metadata": {},
   "outputs": [
    {
     "data": {
      "text/plain": [
       "array([0., 0., 0., 0., 0., 0., 0., 0., 0., 0.])"
      ]
     },
     "execution_count": 29,
     "metadata": {},
     "output_type": "execute_result"
    }
   ],
   "source": [
    "zeros(10)"
   ]
  },
  {
   "cell_type": "code",
   "execution_count": 31,
   "id": "d9c91c93-fe01-47a4-9060-128772f58b4d",
   "metadata": {},
   "outputs": [
    {
     "name": "stdout",
     "output_type": "stream",
     "text": [
      "[ 6  7  8  9 10 11 12 13 14]\n"
     ]
    }
   ],
   "source": [
    "# mathmatical operation\n",
    "val=array([1,2,3,4,5,6,7,8,9])\n",
    "val+=5\n",
    "print(val)"
   ]
  },
  {
   "cell_type": "code",
   "execution_count": 32,
   "id": "c9264045-a501-45fa-9a24-dc69cd82d46f",
   "metadata": {},
   "outputs": [
    {
     "name": "stdout",
     "output_type": "stream",
     "text": [
      "[10 11 12 13 14 15]\n"
     ]
    }
   ],
   "source": [
    "# print element 10 to 15\n",
    "a=arange(10,16)\n",
    "print(a)"
   ]
  },
  {
   "cell_type": "code",
   "execution_count": 33,
   "id": "3abe30a8-75ca-4128-9265-50eb0117c4c0",
   "metadata": {},
   "outputs": [
    {
     "data": {
      "text/plain": [
       "10"
      ]
     },
     "execution_count": 33,
     "metadata": {},
     "output_type": "execute_result"
    }
   ],
   "source": [
    "a[0]"
   ]
  },
  {
   "cell_type": "code",
   "execution_count": 35,
   "id": "153cac24-8231-4acc-836d-ac4a38a30689",
   "metadata": {},
   "outputs": [
    {
     "data": {
      "text/plain": [
       "11"
      ]
     },
     "execution_count": 35,
     "metadata": {},
     "output_type": "execute_result"
    }
   ],
   "source": [
    "a[1]"
   ]
  },
  {
   "cell_type": "code",
   "execution_count": 36,
   "id": "5852873d-315d-4939-b6d5-7ae94a04ffce",
   "metadata": {},
   "outputs": [
    {
     "data": {
      "text/plain": [
       "array([10, 11, 12])"
      ]
     },
     "execution_count": 36,
     "metadata": {},
     "output_type": "execute_result"
    }
   ],
   "source": [
    "a[0:3]"
   ]
  },
  {
   "cell_type": "code",
   "execution_count": 37,
   "id": "224e2859-e420-47b6-ada0-71c0206121ab",
   "metadata": {},
   "outputs": [
    {
     "name": "stdout",
     "output_type": "stream",
     "text": [
      "10\n",
      "11\n",
      "12\n",
      "13\n",
      "14\n",
      "15\n"
     ]
    }
   ],
   "source": [
    "for i in a:\n",
    "    print(i)"
   ]
  },
  {
   "cell_type": "code",
   "execution_count": 40,
   "id": "56186bd1-f199-45a0-bb54-e552af1172ac",
   "metadata": {},
   "outputs": [
    {
     "name": "stdout",
     "output_type": "stream",
     "text": [
      "10\n",
      "11\n",
      "12\n",
      "13\n",
      "14\n",
      "15\n"
     ]
    }
   ],
   "source": [
    "i = 0\n",
    "while i < len(a):\n",
    "    print(a[i])\n",
    "    i += 1\n"
   ]
  },
  {
   "cell_type": "code",
   "execution_count": 41,
   "id": "9ca491d1-9c71-463e-9a55-ec6bba3b5fc5",
   "metadata": {},
   "outputs": [
    {
     "data": {
      "text/plain": [
       "array([10, 12, 14])"
      ]
     },
     "execution_count": 41,
     "metadata": {},
     "output_type": "execute_result"
    }
   ],
   "source": [
    "a[0:5:2]"
   ]
  },
  {
   "cell_type": "code",
   "execution_count": 42,
   "id": "97abb2ba-9b1e-45f0-8241-5175002b6d90",
   "metadata": {},
   "outputs": [
    {
     "data": {
      "text/plain": [
       "array([10, 13])"
      ]
     },
     "execution_count": 42,
     "metadata": {},
     "output_type": "execute_result"
    }
   ],
   "source": [
    "a[0:5:3]"
   ]
  },
  {
   "cell_type": "code",
   "execution_count": 43,
   "id": "48551085-fd5d-4179-8de4-43ca5966d3e1",
   "metadata": {},
   "outputs": [
    {
     "data": {
      "text/plain": [
       "array([10, 11, 12, 13, 14, 15])"
      ]
     },
     "execution_count": 43,
     "metadata": {},
     "output_type": "execute_result"
    }
   ],
   "source": [
    "a[::]"
   ]
  },
  {
   "cell_type": "code",
   "execution_count": 44,
   "id": "1f0a004a-5414-49e4-931a-c44068db79e1",
   "metadata": {},
   "outputs": [
    {
     "data": {
      "text/plain": [
       "array([10, 11, 12, 13, 14, 15])"
      ]
     },
     "execution_count": 44,
     "metadata": {},
     "output_type": "execute_result"
    }
   ],
   "source": [
    "a[0:]"
   ]
  },
  {
   "cell_type": "code",
   "execution_count": 45,
   "id": "695ba75a-81b1-483a-a25b-2cf770062983",
   "metadata": {},
   "outputs": [
    {
     "data": {
      "text/plain": [
       "array([10, 11, 12])"
      ]
     },
     "execution_count": 45,
     "metadata": {},
     "output_type": "execute_result"
    }
   ],
   "source": [
    "a[:3]"
   ]
  },
  {
   "cell_type": "code",
   "execution_count": 46,
   "id": "7d040d45-7dec-4058-b830-6170595dc9ab",
   "metadata": {},
   "outputs": [
    {
     "data": {
      "text/plain": [
       "array([15, 14, 13, 12])"
      ]
     },
     "execution_count": 46,
     "metadata": {},
     "output_type": "execute_result"
    }
   ],
   "source": [
    "a[5:1:-1]"
   ]
  },
  {
   "cell_type": "code",
   "execution_count": 1,
   "id": "2dae9766-b850-461a-8eb8-be755860c58f",
   "metadata": {},
   "outputs": [],
   "source": [
    "from numpy import *"
   ]
  },
  {
   "cell_type": "code",
   "execution_count": 2,
   "id": "635fe652-a91e-42e4-9225-b9c8cd8c668e",
   "metadata": {},
   "outputs": [
    {
     "name": "stdout",
     "output_type": "stream",
     "text": [
      "[1 2 3 4 5 6]\n"
     ]
    }
   ],
   "source": [
    "arr=array([1,2,3,4,5,6])\n",
    "print(arr)"
   ]
  },
  {
   "cell_type": "code",
   "execution_count": 4,
   "id": "2a8d90e6-e7f9-4a0c-8f0f-08a886bfebe0",
   "metadata": {},
   "outputs": [
    {
     "name": "stdout",
     "output_type": "stream",
     "text": [
      "[[1 2 3 4]\n",
      " [1 2 3 4]]\n"
     ]
    }
   ],
   "source": [
    "val=array([[1,2,3,4],[1,2,3,4]])\n",
    "print(val)"
   ]
  },
  {
   "cell_type": "code",
   "execution_count": 5,
   "id": "1720b282-c4ed-48e1-8e87-f10c23f271cc",
   "metadata": {},
   "outputs": [
    {
     "name": "stdout",
     "output_type": "stream",
     "text": [
      "[[[1 2 3 4]\n",
      "  [1 2 3 4]]\n",
      "\n",
      " [[1 2 3 4]\n",
      "  [1 2 3 4]]]\n"
     ]
    }
   ],
   "source": [
    "val3=array([[[1,2,3,4],[1,2,3,4]],[[1,2,3,4],[1,2,3,4]]])\n",
    "print(val3)"
   ]
  },
  {
   "cell_type": "code",
   "execution_count": 6,
   "id": "f7c67a48-e754-49ed-ae47-6820d4407167",
   "metadata": {},
   "outputs": [
    {
     "data": {
      "text/plain": [
       "numpy.ndarray"
      ]
     },
     "execution_count": 6,
     "metadata": {},
     "output_type": "execute_result"
    }
   ],
   "source": [
    "type(val3)"
   ]
  },
  {
   "cell_type": "code",
   "execution_count": 8,
   "id": "5b3f6dd3-528c-49a0-8278-df22d801148d",
   "metadata": {},
   "outputs": [
    {
     "data": {
      "text/plain": [
       "3"
      ]
     },
     "execution_count": 8,
     "metadata": {},
     "output_type": "execute_result"
    }
   ],
   "source": [
    "val3.ndim   # dimenssion"
   ]
  },
  {
   "cell_type": "code",
   "execution_count": 9,
   "id": "73a1f1ef-87c7-493c-a60e-14fbbf7797d3",
   "metadata": {},
   "outputs": [
    {
     "data": {
      "text/plain": [
       "2"
      ]
     },
     "execution_count": 9,
     "metadata": {},
     "output_type": "execute_result"
    }
   ],
   "source": [
    "val.ndim"
   ]
  },
  {
   "cell_type": "code",
   "execution_count": 10,
   "id": "db13eb4e-da93-4394-8977-42368f3d09c5",
   "metadata": {},
   "outputs": [
    {
     "data": {
      "text/plain": [
       "(2, 2, 4)"
      ]
     },
     "execution_count": 10,
     "metadata": {},
     "output_type": "execute_result"
    }
   ],
   "source": [
    "val3.shape"
   ]
  },
  {
   "cell_type": "code",
   "execution_count": 11,
   "id": "738227bb-5303-4020-a9dd-533f56f73fb3",
   "metadata": {},
   "outputs": [
    {
     "name": "stdout",
     "output_type": "stream",
     "text": [
      "(2, 4)\n"
     ]
    }
   ],
   "source": [
    "print(val.shape)"
   ]
  },
  {
   "cell_type": "code",
   "execution_count": 12,
   "id": "a4aa43a7-bb88-44ff-983c-3e56e0dfb10e",
   "metadata": {},
   "outputs": [
    {
     "name": "stdout",
     "output_type": "stream",
     "text": [
      "(2, 2, 4)\n"
     ]
    }
   ],
   "source": [
    "print(val3.shape)"
   ]
  },
  {
   "cell_type": "code",
   "execution_count": 14,
   "id": "aee84483-33d6-4ca3-a268-2a45584d32ce",
   "metadata": {},
   "outputs": [],
   "source": [
    "# we can also change the shape \n",
    "val.shape=(4,2)"
   ]
  },
  {
   "cell_type": "code",
   "execution_count": 15,
   "id": "7ebd3b11-4a2a-44ee-8d1f-8e00bbbd57d3",
   "metadata": {},
   "outputs": [
    {
     "data": {
      "text/plain": [
       "array([[1, 2],\n",
       "       [3, 4],\n",
       "       [1, 2],\n",
       "       [3, 4]])"
      ]
     },
     "execution_count": 15,
     "metadata": {},
     "output_type": "execute_result"
    }
   ],
   "source": [
    "val"
   ]
  },
  {
   "cell_type": "code",
   "execution_count": 16,
   "id": "fae9233e-2f90-46e3-ba1c-c8f1973904f8",
   "metadata": {},
   "outputs": [],
   "source": [
    "val3.shape=(4,2,2)"
   ]
  },
  {
   "cell_type": "code",
   "execution_count": 17,
   "id": "745d42d6-fc1f-4733-aef2-5527570c9b11",
   "metadata": {},
   "outputs": [
    {
     "data": {
      "text/plain": [
       "array([[[1, 2],\n",
       "        [3, 4]],\n",
       "\n",
       "       [[1, 2],\n",
       "        [3, 4]],\n",
       "\n",
       "       [[1, 2],\n",
       "        [3, 4]],\n",
       "\n",
       "       [[1, 2],\n",
       "        [3, 4]]])"
      ]
     },
     "execution_count": 17,
     "metadata": {},
     "output_type": "execute_result"
    }
   ],
   "source": [
    "val3"
   ]
  },
  {
   "cell_type": "code",
   "execution_count": 18,
   "id": "11eee99c-f291-48ec-8a62-c13cd05959b8",
   "metadata": {},
   "outputs": [
    {
     "name": "stdout",
     "output_type": "stream",
     "text": [
      "[1 2 3 4 5 6]\n"
     ]
    }
   ],
   "source": [
    "val2=array([1,2,3,4,5,6])\n",
    "print(val2)"
   ]
  },
  {
   "cell_type": "code",
   "execution_count": 19,
   "id": "6a7275a9-9226-4bfb-9f27-7be295a13b91",
   "metadata": {},
   "outputs": [
    {
     "data": {
      "text/plain": [
       "8"
      ]
     },
     "execution_count": 19,
     "metadata": {},
     "output_type": "execute_result"
    }
   ],
   "source": [
    "val.size   # total no. of element"
   ]
  },
  {
   "cell_type": "code",
   "execution_count": 20,
   "id": "365072c6-8ebd-4d58-a10b-075da7ac98ba",
   "metadata": {},
   "outputs": [
    {
     "data": {
      "text/plain": [
       "6"
      ]
     },
     "execution_count": 20,
     "metadata": {},
     "output_type": "execute_result"
    }
   ],
   "source": [
    "val2.size"
   ]
  },
  {
   "cell_type": "code",
   "execution_count": 21,
   "id": "aad7ee31-d4dc-4a51-95bd-c5b033a3fd4e",
   "metadata": {},
   "outputs": [
    {
     "data": {
      "text/plain": [
       "16"
      ]
     },
     "execution_count": 21,
     "metadata": {},
     "output_type": "execute_result"
    }
   ],
   "source": [
    "val3.size"
   ]
  },
  {
   "cell_type": "code",
   "execution_count": 22,
   "id": "0c2cc5f5-0118-429c-9d9f-7ddfc0d84a17",
   "metadata": {},
   "outputs": [
    {
     "data": {
      "text/plain": [
       "4"
      ]
     },
     "execution_count": 22,
     "metadata": {},
     "output_type": "execute_result"
    }
   ],
   "source": [
    "val.itemsize     # data type size"
   ]
  },
  {
   "cell_type": "code",
   "execution_count": 24,
   "id": "3c494464-e18c-4afa-8be1-89c256b3e723",
   "metadata": {},
   "outputs": [
    {
     "data": {
      "text/plain": [
       "4"
      ]
     },
     "execution_count": 24,
     "metadata": {},
     "output_type": "execute_result"
    }
   ],
   "source": [
    "val2.itemsize"
   ]
  },
  {
   "cell_type": "code",
   "execution_count": 25,
   "id": "57e2daf1-3a0c-49d7-bd1a-a469c7800ddd",
   "metadata": {},
   "outputs": [
    {
     "data": {
      "text/plain": [
       "4"
      ]
     },
     "execution_count": 25,
     "metadata": {},
     "output_type": "execute_result"
    }
   ],
   "source": [
    "val3.itemsize"
   ]
  },
  {
   "cell_type": "code",
   "execution_count": 26,
   "id": "7623d4f7-b2cd-4e0f-ae12-c561516ca00a",
   "metadata": {},
   "outputs": [
    {
     "name": "stdout",
     "output_type": "stream",
     "text": [
      "[2.3, 3.4, 4.5, 6.7]\n"
     ]
    }
   ],
   "source": [
    "arr=([2.3,3.4,4.5,6.7])\n",
    "print(arr)"
   ]
  },
  {
   "cell_type": "code",
   "execution_count": 37,
   "id": "a77a1abd-fdaf-42a3-b2e9-577a1bb5afae",
   "metadata": {},
   "outputs": [
    {
     "name": "stdout",
     "output_type": "stream",
     "text": [
      "[2.3 2.3 4.5 6.7]\n"
     ]
    }
   ],
   "source": [
    "val1=array([2.3,2.3,4.5,6.7])\n",
    "print(val1)"
   ]
  },
  {
   "cell_type": "code",
   "execution_count": 38,
   "id": "4dbebb55-9ea7-4914-8149-978fc3f10a6d",
   "metadata": {},
   "outputs": [
    {
     "data": {
      "text/plain": [
       "(4,)"
      ]
     },
     "execution_count": 38,
     "metadata": {},
     "output_type": "execute_result"
    }
   ],
   "source": [
    "val1.shape"
   ]
  },
  {
   "cell_type": "code",
   "execution_count": 39,
   "id": "3c666529-9e6c-4473-837d-799dd3cee43a",
   "metadata": {},
   "outputs": [
    {
     "data": {
      "text/plain": [
       "4"
      ]
     },
     "execution_count": 39,
     "metadata": {},
     "output_type": "execute_result"
    }
   ],
   "source": [
    "val1.size"
   ]
  },
  {
   "cell_type": "code",
   "execution_count": 40,
   "id": "948923c3-1c29-48c0-b5fa-bae9e0a7e3ef",
   "metadata": {},
   "outputs": [
    {
     "data": {
      "text/plain": [
       "8"
      ]
     },
     "execution_count": 40,
     "metadata": {},
     "output_type": "execute_result"
    }
   ],
   "source": [
    "val1.itemsize"
   ]
  },
  {
   "cell_type": "code",
   "execution_count": 42,
   "id": "45d424b4-4402-4861-b5c6-9a6b5021aace",
   "metadata": {},
   "outputs": [
    {
     "data": {
      "text/plain": [
       "dtype('float64')"
      ]
     },
     "execution_count": 42,
     "metadata": {},
     "output_type": "execute_result"
    }
   ],
   "source": [
    "val1.dtype"
   ]
  },
  {
   "cell_type": "code",
   "execution_count": 43,
   "id": "7d9a21d8-a837-4267-9dd0-43de8b216daf",
   "metadata": {},
   "outputs": [
    {
     "data": {
      "text/plain": [
       "dtype('int32')"
      ]
     },
     "execution_count": 43,
     "metadata": {},
     "output_type": "execute_result"
    }
   ],
   "source": [
    "val.dtype"
   ]
  },
  {
   "cell_type": "code",
   "execution_count": 44,
   "id": "fd9447e8-f875-457f-a76d-4fa912b33619",
   "metadata": {},
   "outputs": [
    {
     "data": {
      "text/plain": [
       "dtype('int32')"
      ]
     },
     "execution_count": 44,
     "metadata": {},
     "output_type": "execute_result"
    }
   ],
   "source": [
    "val3.dtype"
   ]
  },
  {
   "cell_type": "code",
   "execution_count": 46,
   "id": "96d088db-c11f-4cf4-9ce8-5edad819ccbc",
   "metadata": {},
   "outputs": [
    {
     "data": {
      "text/plain": [
       "32"
      ]
     },
     "execution_count": 46,
     "metadata": {},
     "output_type": "execute_result"
    }
   ],
   "source": [
    "# nbyte given total no. of bytes occupied by array\n",
    "# total no. of byte=size of array * item size of each element in array\n",
    "val.nbytes"
   ]
  },
  {
   "cell_type": "code",
   "execution_count": 47,
   "id": "78d7c781-17b6-4852-9131-bad464d3e8f8",
   "metadata": {},
   "outputs": [
    {
     "data": {
      "text/plain": [
       "64"
      ]
     },
     "execution_count": 47,
     "metadata": {},
     "output_type": "execute_result"
    }
   ],
   "source": [
    "val3.nbytes"
   ]
  },
  {
   "cell_type": "code",
   "execution_count": 48,
   "id": "c69ab724-5696-4120-9360-b517152ab7d3",
   "metadata": {},
   "outputs": [
    {
     "data": {
      "text/plain": [
       "32"
      ]
     },
     "execution_count": 48,
     "metadata": {},
     "output_type": "execute_result"
    }
   ],
   "source": [
    "val1.nbytes"
   ]
  },
  {
   "cell_type": "code",
   "execution_count": 49,
   "id": "891cce78-8b27-4be4-85c7-83f8c841098e",
   "metadata": {},
   "outputs": [
    {
     "data": {
      "text/plain": [
       "24"
      ]
     },
     "execution_count": 49,
     "metadata": {},
     "output_type": "execute_result"
    }
   ],
   "source": [
    "val2.nbytes"
   ]
  },
  {
   "cell_type": "code",
   "execution_count": 50,
   "id": "76620723-c1b1-48c2-96a4-0b0a110914fa",
   "metadata": {},
   "outputs": [
    {
     "data": {
      "text/plain": [
       "array([0, 1, 2, 3, 4, 5, 6, 7, 8, 9])"
      ]
     },
     "execution_count": 50,
     "metadata": {},
     "output_type": "execute_result"
    }
   ],
   "source": [
    "# reshape\n",
    "val=arange(10)\n",
    "val"
   ]
  },
  {
   "cell_type": "code",
   "execution_count": 55,
   "id": "42b64f54-a5fc-4ea3-a0a3-e3bf007586ac",
   "metadata": {},
   "outputs": [],
   "source": [
    "val1=val.reshape(2,5)"
   ]
  },
  {
   "cell_type": "code",
   "execution_count": 56,
   "id": "1f52666f-fce9-4a0f-8c89-1bb7bd18fc80",
   "metadata": {},
   "outputs": [
    {
     "data": {
      "text/plain": [
       "array([[0, 1, 2, 3, 4],\n",
       "       [5, 6, 7, 8, 9]])"
      ]
     },
     "execution_count": 56,
     "metadata": {},
     "output_type": "execute_result"
    }
   ],
   "source": [
    "val1"
   ]
  },
  {
   "cell_type": "code",
   "execution_count": 57,
   "id": "980c95aa-0b22-4d5b-8cc2-618442126d63",
   "metadata": {},
   "outputs": [],
   "source": [
    "val1=val.reshape(5,2)"
   ]
  },
  {
   "cell_type": "code",
   "execution_count": 58,
   "id": "4d7bcb3a-fadc-492d-ae93-d249824326e3",
   "metadata": {},
   "outputs": [
    {
     "data": {
      "text/plain": [
       "array([[0, 1],\n",
       "       [2, 3],\n",
       "       [4, 5],\n",
       "       [6, 7],\n",
       "       [8, 9]])"
      ]
     },
     "execution_count": 58,
     "metadata": {},
     "output_type": "execute_result"
    }
   ],
   "source": [
    "val1"
   ]
  },
  {
   "cell_type": "code",
   "execution_count": 60,
   "id": "074e7e33-1b45-46e9-98f8-08e60eb78e14",
   "metadata": {},
   "outputs": [
    {
     "data": {
      "text/plain": [
       "array([ 1,  2,  3,  4,  6,  5,  6, 77,  8,  9])"
      ]
     },
     "execution_count": 60,
     "metadata": {},
     "output_type": "execute_result"
    }
   ],
   "source": [
    "# flatten : convert 2d to 1d\n",
    "arr1=array([[1,2,3,4,6],[5,6,77,8,9]])\n",
    "arr1.flatten()"
   ]
  },
  {
   "cell_type": "code",
   "execution_count": 61,
   "id": "1641bf9f-3fd3-46c8-80f0-926a2c021387",
   "metadata": {},
   "outputs": [
    {
     "data": {
      "text/plain": [
       "array([[1, 1, 1, 1, 1, 1],\n",
       "       [1, 1, 1, 1, 1, 1],\n",
       "       [1, 1, 1, 1, 1, 1],\n",
       "       [1, 1, 1, 1, 1, 1]])"
      ]
     },
     "execution_count": 61,
     "metadata": {},
     "output_type": "execute_result"
    }
   ],
   "source": [
    "# multiple dimenssion array\n",
    "ones((4,6),int)"
   ]
  },
  {
   "cell_type": "code",
   "execution_count": 62,
   "id": "2c52465e-4c72-4f0c-accb-be9ae59a2f2c",
   "metadata": {},
   "outputs": [
    {
     "data": {
      "text/plain": [
       "array([[1., 1., 1., 1., 1., 1.],\n",
       "       [1., 1., 1., 1., 1., 1.],\n",
       "       [1., 1., 1., 1., 1., 1.],\n",
       "       [1., 1., 1., 1., 1., 1.],\n",
       "       [1., 1., 1., 1., 1., 1.]])"
      ]
     },
     "execution_count": 62,
     "metadata": {},
     "output_type": "execute_result"
    }
   ],
   "source": [
    "ones((5,6))   # bydefult float"
   ]
  },
  {
   "cell_type": "code",
   "execution_count": 63,
   "id": "30dce7ec-b9ab-41bd-80ba-378e02297972",
   "metadata": {},
   "outputs": [
    {
     "data": {
      "text/plain": [
       "array([[0, 0, 0, 0, 0, 0],\n",
       "       [0, 0, 0, 0, 0, 0],\n",
       "       [0, 0, 0, 0, 0, 0],\n",
       "       [0, 0, 0, 0, 0, 0]])"
      ]
     },
     "execution_count": 63,
     "metadata": {},
     "output_type": "execute_result"
    }
   ],
   "source": [
    "zeros((4,6),int)"
   ]
  },
  {
   "cell_type": "code",
   "execution_count": 64,
   "id": "781860eb-d39c-4406-ba7e-0273f9bdf42f",
   "metadata": {},
   "outputs": [
    {
     "data": {
      "text/plain": [
       "array([[0., 0., 0., 0., 0.],\n",
       "       [0., 0., 0., 0., 0.],\n",
       "       [0., 0., 0., 0., 0.]])"
      ]
     },
     "execution_count": 64,
     "metadata": {},
     "output_type": "execute_result"
    }
   ],
   "source": [
    "zeros((3,5),float)"
   ]
  },
  {
   "cell_type": "code",
   "execution_count": 65,
   "id": "e95a9cc4-49ac-4f58-be7a-0b853134327d",
   "metadata": {},
   "outputs": [
    {
     "data": {
      "text/plain": [
       "array([[1., 0., 0.],\n",
       "       [0., 1., 0.],\n",
       "       [0., 0., 1.]])"
      ]
     },
     "execution_count": 65,
     "metadata": {},
     "output_type": "execute_result"
    }
   ],
   "source": [
    "# eye() create digonal\n",
    "eye(3)"
   ]
  },
  {
   "cell_type": "code",
   "execution_count": 66,
   "id": "c8878bbb-5753-4d65-88fe-dc598901abfa",
   "metadata": {},
   "outputs": [
    {
     "data": {
      "text/plain": [
       "array([[1., 0., 0., 0., 0.],\n",
       "       [0., 1., 0., 0., 0.],\n",
       "       [0., 0., 1., 0., 0.],\n",
       "       [0., 0., 0., 1., 0.],\n",
       "       [0., 0., 0., 0., 1.]])"
      ]
     },
     "execution_count": 66,
     "metadata": {},
     "output_type": "execute_result"
    }
   ],
   "source": [
    "eye(5)"
   ]
  },
  {
   "cell_type": "code",
   "execution_count": 73,
   "id": "ebb9c5c7-63fc-44c4-80cf-c280002158c5",
   "metadata": {},
   "outputs": [],
   "source": [
    "a=eye(5,dtype=int)"
   ]
  },
  {
   "cell_type": "code",
   "execution_count": 74,
   "id": "7178e80b-68a7-4063-a14f-076cadd5d52d",
   "metadata": {},
   "outputs": [
    {
     "name": "stdout",
     "output_type": "stream",
     "text": [
      "[1 0 0 0 0]\n",
      "[0 1 0 0 0]\n",
      "[0 0 1 0 0]\n",
      "[0 0 0 1 0]\n",
      "[0 0 0 0 1]\n"
     ]
    }
   ],
   "source": [
    "for i in a:\n",
    "    print(i)\n",
    "     "
   ]
  },
  {
   "cell_type": "code",
   "execution_count": 75,
   "id": "9807af9c-726a-42d6-8267-7d3e1beda05a",
   "metadata": {},
   "outputs": [
    {
     "data": {
      "text/plain": [
       "0"
      ]
     },
     "execution_count": 75,
     "metadata": {},
     "output_type": "execute_result"
    }
   ],
   "source": [
    "a[0][1]"
   ]
  },
  {
   "cell_type": "code",
   "execution_count": 76,
   "id": "5a2016b7-4d13-4f75-8b3a-ec702911baf1",
   "metadata": {},
   "outputs": [
    {
     "data": {
      "text/plain": [
       "1"
      ]
     },
     "execution_count": 76,
     "metadata": {},
     "output_type": "execute_result"
    }
   ],
   "source": [
    "a[0][0]"
   ]
  },
  {
   "cell_type": "code",
   "execution_count": 77,
   "id": "4f7d7c9a-b1df-4527-afde-ed0b828d503e",
   "metadata": {},
   "outputs": [
    {
     "data": {
      "text/plain": [
       "1"
      ]
     },
     "execution_count": 77,
     "metadata": {},
     "output_type": "execute_result"
    }
   ],
   "source": [
    "a[1][1]"
   ]
  },
  {
   "cell_type": "code",
   "execution_count": 78,
   "id": "0104f126-8427-4c4d-8942-71e09e641121",
   "metadata": {},
   "outputs": [
    {
     "data": {
      "text/plain": [
       "5"
      ]
     },
     "execution_count": 78,
     "metadata": {},
     "output_type": "execute_result"
    }
   ],
   "source": [
    "len(a)"
   ]
  },
  {
   "cell_type": "code",
   "execution_count": 79,
   "id": "668e98cb-c9f5-4fa4-9b14-b5140dcf5c69",
   "metadata": {},
   "outputs": [
    {
     "data": {
      "text/plain": [
       "(5, 5)"
      ]
     },
     "execution_count": 79,
     "metadata": {},
     "output_type": "execute_result"
    }
   ],
   "source": [
    "a.shape"
   ]
  },
  {
   "cell_type": "code",
   "execution_count": 81,
   "id": "d15630ab-b4fe-4530-bc3f-0cfb74584643",
   "metadata": {},
   "outputs": [
    {
     "data": {
      "text/plain": [
       "4"
      ]
     },
     "execution_count": 81,
     "metadata": {},
     "output_type": "execute_result"
    }
   ],
   "source": [
    "a.itemsize"
   ]
  },
  {
   "cell_type": "code",
   "execution_count": 82,
   "id": "959fdff2-7a76-4f1e-b191-09da979c38bd",
   "metadata": {},
   "outputs": [
    {
     "data": {
      "text/plain": [
       "2"
      ]
     },
     "execution_count": 82,
     "metadata": {},
     "output_type": "execute_result"
    }
   ],
   "source": [
    "a.ndim"
   ]
  },
  {
   "cell_type": "code",
   "execution_count": 83,
   "id": "86ed4f4b-7dcf-4982-8342-6a806dff74bc",
   "metadata": {},
   "outputs": [
    {
     "data": {
      "text/plain": [
       "dtype('int32')"
      ]
     },
     "execution_count": 83,
     "metadata": {},
     "output_type": "execute_result"
    }
   ],
   "source": [
    "a.dtype"
   ]
  },
  {
   "cell_type": "code",
   "execution_count": 84,
   "id": "f685adf0-adbb-45b1-a78f-738c9aad8d31",
   "metadata": {},
   "outputs": [
    {
     "data": {
      "text/plain": [
       "100"
      ]
     },
     "execution_count": 84,
     "metadata": {},
     "output_type": "execute_result"
    }
   ],
   "source": [
    "a.nbytes"
   ]
  },
  {
   "cell_type": "code",
   "execution_count": 85,
   "id": "813bc4b2-eb21-464b-b82a-3f842c98382a",
   "metadata": {},
   "outputs": [
    {
     "data": {
      "text/plain": [
       "array([1, 0, 0, 0, 0, 0, 1, 0, 0, 0, 0, 0, 1, 0, 0, 0, 0, 0, 1, 0, 0, 0,\n",
       "       0, 0, 1])"
      ]
     },
     "execution_count": 85,
     "metadata": {},
     "output_type": "execute_result"
    }
   ],
   "source": [
    "a.flatten()"
   ]
  },
  {
   "cell_type": "code",
   "execution_count": 86,
   "id": "45385479-8636-4788-9071-1f16fdbcfc74",
   "metadata": {},
   "outputs": [
    {
     "data": {
      "text/plain": [
       "2"
      ]
     },
     "execution_count": 86,
     "metadata": {},
     "output_type": "execute_result"
    }
   ],
   "source": [
    "a.ndim"
   ]
  },
  {
   "cell_type": "code",
   "execution_count": 87,
   "id": "7c5804eb-3746-455f-957a-e108ec0e4f69",
   "metadata": {},
   "outputs": [
    {
     "data": {
      "text/plain": [
       "25"
      ]
     },
     "execution_count": 87,
     "metadata": {},
     "output_type": "execute_result"
    }
   ],
   "source": [
    "a.size"
   ]
  },
  {
   "cell_type": "code",
   "execution_count": 88,
   "id": "ec997504-9bea-491a-9e50-80b3f2f8b94e",
   "metadata": {},
   "outputs": [],
   "source": [
    "a=array([[1,2,3],[4,5,6],[7,8,9]])"
   ]
  },
  {
   "cell_type": "code",
   "execution_count": 89,
   "id": "d63e096a-ad87-4a5b-92f8-8b17f45c8307",
   "metadata": {},
   "outputs": [
    {
     "data": {
      "text/plain": [
       "array([[1, 2, 3],\n",
       "       [4, 5, 6],\n",
       "       [7, 8, 9]])"
      ]
     },
     "execution_count": 89,
     "metadata": {},
     "output_type": "execute_result"
    }
   ],
   "source": [
    "a"
   ]
  },
  {
   "cell_type": "code",
   "execution_count": 90,
   "id": "5ee77ea3-e7c2-4e4d-9978-d89bc9609ba5",
   "metadata": {},
   "outputs": [
    {
     "data": {
      "text/plain": [
       "2"
      ]
     },
     "execution_count": 90,
     "metadata": {},
     "output_type": "execute_result"
    }
   ],
   "source": [
    "a.ndim"
   ]
  },
  {
   "cell_type": "code",
   "execution_count": 92,
   "id": "01d92b80-e0ae-4ff8-9e02-14e87d76ba95",
   "metadata": {},
   "outputs": [
    {
     "name": "stdout",
     "output_type": "stream",
     "text": [
      "0\n",
      "1\n",
      "2\n"
     ]
    }
   ],
   "source": [
    "for i in range(len(a)):\n",
    "    print(i)"
   ]
  },
  {
   "cell_type": "code",
   "execution_count": 105,
   "id": "c841125d-54d9-46b2-86de-cde8748bdd5f",
   "metadata": {},
   "outputs": [
    {
     "ename": "IndentationError",
     "evalue": "unindent does not match any outer indentation level (<tokenize>, line 5)",
     "output_type": "error",
     "traceback": [
      "\u001b[1;36m  File \u001b[1;32m<tokenize>:5\u001b[1;36m\u001b[0m\n\u001b[1;33m    print()\u001b[0m\n\u001b[1;37m    ^\u001b[0m\n\u001b[1;31mIndentationError\u001b[0m\u001b[1;31m:\u001b[0m unindent does not match any outer indentation level\n"
     ]
    }
   ],
   "source": [
    "# display by the element \n",
    "for i in range(len(a)):\n",
    "    for j in range(len(a[i])):\n",
    "        print(a[i][j], end=' ')"
   ]
  },
  {
   "cell_type": "code",
   "execution_count": 98,
   "id": "d184ed95-853d-4a50-a651-b806e840023e",
   "metadata": {},
   "outputs": [],
   "source": [
    "a=array([[[1,2,3],[4,5,6]],[[1,2,3],[4,5,6]]])"
   ]
  },
  {
   "cell_type": "code",
   "execution_count": 99,
   "id": "a55e8fa2-7241-4a40-8af9-fe4ceaa926b3",
   "metadata": {},
   "outputs": [
    {
     "data": {
      "text/plain": [
       "3"
      ]
     },
     "execution_count": 99,
     "metadata": {},
     "output_type": "execute_result"
    }
   ],
   "source": [
    "a.ndim"
   ]
  },
  {
   "cell_type": "code",
   "execution_count": 103,
   "id": "8ddb8890-9575-4ae5-aeef-4b3cf82702f5",
   "metadata": {},
   "outputs": [
    {
     "name": "stdout",
     "output_type": "stream",
     "text": [
      "1 \t 2 \t 3 \t \n",
      "4 \t 5 \t 6 \t \n",
      "\n",
      "1 \t 2 \t 3 \t \n",
      "4 \t 5 \t 6 \t \n",
      "\n"
     ]
    }
   ],
   "source": [
    "for i in range(len(a)):\n",
    "    for j in range(len(a[i])):\n",
    "        for k in range(len(a[i][j])):\n",
    "            print(a[i][j][k], end=' \\t ')\n",
    "        print()\n",
    "    print()"
   ]
  },
  {
   "cell_type": "code",
   "execution_count": 106,
   "id": "ddc937a2-0451-46dc-9b79-a26d8b1609d0",
   "metadata": {},
   "outputs": [],
   "source": [
    "# slicing in multiple dimenssion array\n",
    "a=reshape(arange(11,36,1),(5,5))"
   ]
  },
  {
   "cell_type": "code",
   "execution_count": 107,
   "id": "13ba22c9-d8e2-4bc3-be82-26888bfbfe43",
   "metadata": {},
   "outputs": [
    {
     "data": {
      "text/plain": [
       "array([[11, 12, 13, 14, 15],\n",
       "       [16, 17, 18, 19, 20],\n",
       "       [21, 22, 23, 24, 25],\n",
       "       [26, 27, 28, 29, 30],\n",
       "       [31, 32, 33, 34, 35]])"
      ]
     },
     "execution_count": 107,
     "metadata": {},
     "output_type": "execute_result"
    }
   ],
   "source": [
    "a"
   ]
  },
  {
   "cell_type": "code",
   "execution_count": 110,
   "id": "7fd83068-1cf8-4e84-bd46-9f6080aa2667",
   "metadata": {},
   "outputs": [
    {
     "data": {
      "text/plain": [
       "array([11, 12, 13, 14, 15])"
      ]
     },
     "execution_count": 110,
     "metadata": {},
     "output_type": "execute_result"
    }
   ],
   "source": [
    "a[0,:]  # 0 Rows"
   ]
  },
  {
   "cell_type": "code",
   "execution_count": 114,
   "id": "f87f4d61-5262-49ca-9390-0bf4b09f950a",
   "metadata": {},
   "outputs": [
    {
     "data": {
      "text/plain": [
       "array([11, 16, 21, 26, 31])"
      ]
     },
     "execution_count": 114,
     "metadata": {},
     "output_type": "execute_result"
    }
   ],
   "source": [
    "a[:,0]  # o column"
   ]
  },
  {
   "cell_type": "code",
   "execution_count": 115,
   "id": "3bc0a14d-f865-4339-b554-ba1c0cc198e9",
   "metadata": {},
   "outputs": [
    {
     "data": {
      "text/plain": [
       "array([[17]])"
      ]
     },
     "execution_count": 115,
     "metadata": {},
     "output_type": "execute_result"
    }
   ],
   "source": [
    "a[1:2,1:2]"
   ]
  },
  {
   "cell_type": "code",
   "execution_count": 116,
   "id": "2d474185-174c-46b8-8a16-cd91b0a17eff",
   "metadata": {},
   "outputs": [
    {
     "data": {
      "text/plain": [
       "array([[12],\n",
       "       [17],\n",
       "       [22],\n",
       "       [27],\n",
       "       [32]])"
      ]
     },
     "execution_count": 116,
     "metadata": {},
     "output_type": "execute_result"
    }
   ],
   "source": [
    "# all row 1st column\n",
    "a[0:5,1:2]"
   ]
  },
  {
   "cell_type": "code",
   "execution_count": 117,
   "id": "262d15aa-2a00-455a-af42-cf5d97aeda57",
   "metadata": {},
   "outputs": [
    {
     "data": {
      "text/plain": [
       "array([[11, 12, 13],\n",
       "       [16, 17, 18]])"
      ]
     },
     "execution_count": 117,
     "metadata": {},
     "output_type": "execute_result"
    }
   ],
   "source": [
    "a[0:2,0:3]"
   ]
  },
  {
   "cell_type": "code",
   "execution_count": 118,
   "id": "b457a798-43c8-454c-884d-a867046a274f",
   "metadata": {},
   "outputs": [
    {
     "data": {
      "text/plain": [
       "array([[24, 25],\n",
       "       [29, 30]])"
      ]
     },
     "execution_count": 118,
     "metadata": {},
     "output_type": "execute_result"
    }
   ],
   "source": [
    "a[2:4,3:5]"
   ]
  },
  {
   "cell_type": "code",
   "execution_count": 119,
   "id": "d3016ca6-e6de-4397-9739-044234f04cec",
   "metadata": {},
   "outputs": [],
   "source": [
    "# matrix\n",
    "# matrix_name=matrix(2d array or string)\n",
    "arr=[[1,2,3],[4,5,6]]\n",
    "m=matrix(arr)"
   ]
  },
  {
   "cell_type": "code",
   "execution_count": 120,
   "id": "e9b82808-104c-4af6-8005-8950b0546feb",
   "metadata": {},
   "outputs": [
    {
     "data": {
      "text/plain": [
       "matrix([[1, 2, 3],\n",
       "        [4, 5, 6]])"
      ]
     },
     "execution_count": 120,
     "metadata": {},
     "output_type": "execute_result"
    }
   ],
   "source": [
    "m"
   ]
  },
  {
   "cell_type": "code",
   "execution_count": 121,
   "id": "344d2b5d-ec10-4c00-a0f6-3c65e5b8af85",
   "metadata": {},
   "outputs": [
    {
     "data": {
      "text/plain": [
       "matrix([[1, 2, 3],\n",
       "        [4, 5, 6]])"
      ]
     },
     "execution_count": 121,
     "metadata": {},
     "output_type": "execute_result"
    }
   ],
   "source": [
    "# another method\n",
    "arr=matrix([[1,2,3],[4,5,6]])\n",
    "arr"
   ]
  },
  {
   "cell_type": "code",
   "execution_count": 123,
   "id": "e494db04-f5bb-4cfd-9984-ad657d655e25",
   "metadata": {},
   "outputs": [],
   "source": [
    "# another matrix\n",
    "str='1 2; 3 4; 5 6'\n",
    "m1=matrix(str)"
   ]
  },
  {
   "cell_type": "code",
   "execution_count": 124,
   "id": "b531fe1d-2887-4b58-a275-dfcbc4abe327",
   "metadata": {},
   "outputs": [
    {
     "data": {
      "text/plain": [
       "matrix([[1, 2],\n",
       "        [3, 4],\n",
       "        [5, 6]])"
      ]
     },
     "execution_count": 124,
     "metadata": {},
     "output_type": "execute_result"
    }
   ],
   "source": [
    "m1"
   ]
  },
  {
   "cell_type": "code",
   "execution_count": 128,
   "id": "c629cb41-a19d-4c98-8639-2ec3edb1575b",
   "metadata": {},
   "outputs": [],
   "source": [
    "m1=matrix('1,2,3; 4 5 6; 7 8 9')"
   ]
  },
  {
   "cell_type": "code",
   "execution_count": 129,
   "id": "b33596cc-2f3e-4154-bf3b-30a8105ddfd9",
   "metadata": {},
   "outputs": [
    {
     "data": {
      "text/plain": [
       "matrix([[1, 2, 3],\n",
       "        [4, 5, 6],\n",
       "        [7, 8, 9]])"
      ]
     },
     "execution_count": 129,
     "metadata": {},
     "output_type": "execute_result"
    }
   ],
   "source": [
    "m1"
   ]
  },
  {
   "cell_type": "code",
   "execution_count": 130,
   "id": "58ee889a-86ea-457f-b0a7-201e307dbbd2",
   "metadata": {},
   "outputs": [],
   "source": [
    "# find the digonal\n",
    "a=diagonal(m1)"
   ]
  },
  {
   "cell_type": "code",
   "execution_count": 131,
   "id": "48d75374-74af-4d62-a08c-2e622debbf42",
   "metadata": {},
   "outputs": [
    {
     "data": {
      "text/plain": [
       "array([1, 5, 9])"
      ]
     },
     "execution_count": 131,
     "metadata": {},
     "output_type": "execute_result"
    }
   ],
   "source": [
    "a"
   ]
  },
  {
   "cell_type": "code",
   "execution_count": 132,
   "id": "c96d0ba8-b22c-48c0-a3f1-bc35d26daaff",
   "metadata": {},
   "outputs": [
    {
     "data": {
      "text/plain": [
       "9"
      ]
     },
     "execution_count": 132,
     "metadata": {},
     "output_type": "execute_result"
    }
   ],
   "source": [
    "m1.max()"
   ]
  },
  {
   "cell_type": "code",
   "execution_count": 133,
   "id": "761e89ee-f944-44e6-b8b5-e84aa99861ba",
   "metadata": {},
   "outputs": [
    {
     "data": {
      "text/plain": [
       "1"
      ]
     },
     "execution_count": 133,
     "metadata": {},
     "output_type": "execute_result"
    }
   ],
   "source": [
    "m1.min()"
   ]
  },
  {
   "cell_type": "code",
   "execution_count": 134,
   "id": "0b6b9863-1c34-4ed7-8e49-86d397acacbd",
   "metadata": {},
   "outputs": [
    {
     "data": {
      "text/plain": [
       "45"
      ]
     },
     "execution_count": 134,
     "metadata": {},
     "output_type": "execute_result"
    }
   ],
   "source": [
    "m1.sum()"
   ]
  },
  {
   "cell_type": "code",
   "execution_count": 135,
   "id": "0e9b3360-ffd5-4f01-b5f1-2c8cb7ea7a01",
   "metadata": {},
   "outputs": [
    {
     "data": {
      "text/plain": [
       "5.0"
      ]
     },
     "execution_count": 135,
     "metadata": {},
     "output_type": "execute_result"
    }
   ],
   "source": [
    "m1.mean()"
   ]
  },
  {
   "cell_type": "code",
   "execution_count": 137,
   "id": "72633378-8ee2-410b-a90a-6a9475fac30e",
   "metadata": {},
   "outputs": [
    {
     "data": {
      "text/plain": [
       "matrix([[ 28,  80, 162]])"
      ]
     },
     "execution_count": 137,
     "metadata": {},
     "output_type": "execute_result"
    }
   ],
   "source": [
    " m1.prod(0)"
   ]
  },
  {
   "cell_type": "code",
   "execution_count": 138,
   "id": "1205eb9f-1d4b-4939-bb0d-faf756cb26fc",
   "metadata": {},
   "outputs": [
    {
     "data": {
      "text/plain": [
       "matrix([[  6],\n",
       "        [120],\n",
       "        [504]])"
      ]
     },
     "execution_count": 138,
     "metadata": {},
     "output_type": "execute_result"
    }
   ],
   "source": [
    "m1.prod(1)"
   ]
  },
  {
   "cell_type": "code",
   "execution_count": 140,
   "id": "1fd1bbcc-ed57-4534-9a57-0fdee60e8e80",
   "metadata": {},
   "outputs": [
    {
     "data": {
      "text/plain": [
       "matrix([[1, 2, 3],\n",
       "        [4, 5, 6],\n",
       "        [7, 8, 9]])"
      ]
     },
     "execution_count": 140,
     "metadata": {},
     "output_type": "execute_result"
    }
   ],
   "source": [
    "sort(m1)"
   ]
  },
  {
   "cell_type": "code",
   "execution_count": 141,
   "id": "755af979-e9b8-4b10-88dd-d5a1399102fc",
   "metadata": {},
   "outputs": [],
   "source": [
    "val=matrix([[3,1,9],[1,7,3]])\n",
    "a=sort(val)"
   ]
  },
  {
   "cell_type": "code",
   "execution_count": 142,
   "id": "7ef1c7b9-adcf-4e8a-a4f8-55ce21dc46da",
   "metadata": {},
   "outputs": [
    {
     "data": {
      "text/plain": [
       "matrix([[1, 3, 9],\n",
       "        [1, 3, 7]])"
      ]
     },
     "execution_count": 142,
     "metadata": {},
     "output_type": "execute_result"
    }
   ],
   "source": [
    "a"
   ]
  },
  {
   "cell_type": "code",
   "execution_count": 143,
   "id": "cb4d542d-ffb0-420c-9f3c-317fcfdaf612",
   "metadata": {},
   "outputs": [
    {
     "data": {
      "text/plain": [
       "matrix([[1, 3, 7],\n",
       "        [1, 3, 9]])"
      ]
     },
     "execution_count": 143,
     "metadata": {},
     "output_type": "execute_result"
    }
   ],
   "source": [
    "sort(a,axis=0) # columan wise"
   ]
  },
  {
   "cell_type": "code",
   "execution_count": 144,
   "id": "c00b1972-af4c-4a4c-b711-d36df9eaa0ca",
   "metadata": {},
   "outputs": [
    {
     "data": {
      "text/plain": [
       "matrix([[1, 3, 9],\n",
       "        [1, 3, 7]])"
      ]
     },
     "execution_count": 144,
     "metadata": {},
     "output_type": "execute_result"
    }
   ],
   "source": [
    "sort(a,axis=1)"
   ]
  },
  {
   "cell_type": "code",
   "execution_count": 145,
   "id": "f0e11e36-f803-49c9-9cc3-b83acdcc5bab",
   "metadata": {},
   "outputs": [],
   "source": [
    "m1=matrix('1,2,3; 4 5 6; 7 8 9')\n",
    "# transpose matrix\n"
   ]
  },
  {
   "cell_type": "code",
   "execution_count": 146,
   "id": "58b29f33-a92f-461e-9aee-52a90134752f",
   "metadata": {},
   "outputs": [
    {
     "data": {
      "text/plain": [
       "matrix([[1, 2, 3],\n",
       "        [4, 5, 6],\n",
       "        [7, 8, 9]])"
      ]
     },
     "execution_count": 146,
     "metadata": {},
     "output_type": "execute_result"
    }
   ],
   "source": [
    "m1"
   ]
  },
  {
   "cell_type": "code",
   "execution_count": 147,
   "id": "868b8c65-9956-4131-9805-a9181f7dddc2",
   "metadata": {},
   "outputs": [],
   "source": [
    "t=m.transpose()"
   ]
  },
  {
   "cell_type": "code",
   "execution_count": 148,
   "id": "41f03919-925f-4553-b922-6889d0fbe22c",
   "metadata": {},
   "outputs": [
    {
     "data": {
      "text/plain": [
       "matrix([[1, 4],\n",
       "        [2, 5],\n",
       "        [3, 6]])"
      ]
     },
     "execution_count": 148,
     "metadata": {},
     "output_type": "execute_result"
    }
   ],
   "source": [
    "t"
   ]
  },
  {
   "cell_type": "code",
   "execution_count": 149,
   "id": "4015bf90-dbeb-404e-b198-151e7753ec1e",
   "metadata": {},
   "outputs": [],
   "source": [
    "t1=m.getT()"
   ]
  },
  {
   "cell_type": "code",
   "execution_count": 150,
   "id": "0be38656-f27e-43b6-9806-12a8f750f390",
   "metadata": {},
   "outputs": [
    {
     "data": {
      "text/plain": [
       "matrix([[1, 4],\n",
       "        [2, 5],\n",
       "        [3, 6]])"
      ]
     },
     "execution_count": 150,
     "metadata": {},
     "output_type": "execute_result"
    }
   ],
   "source": [
    "t1"
   ]
  },
  {
   "cell_type": "code",
   "execution_count": 156,
   "id": "ecc7ba53-80d4-4611-bcfa-b8a65f01163c",
   "metadata": {},
   "outputs": [
    {
     "name": "stdin",
     "output_type": "stream",
     "text": [
      "enter the row and column:  2 3\n",
      "enter the matrix element :  1 2 3 4 5 6 \n"
     ]
    },
    {
     "name": "stdout",
     "output_type": "stream",
     "text": [
      "[[1 2 3]\n",
      " [4 5 6]]\n",
      "after transposition value is : \n",
      "[[1 4]\n",
      " [2 5]\n",
      " [3 6]]\n"
     ]
    }
   ],
   "source": [
    "# write a program accept the keyword and dispaly the transpose matrix\n",
    "r,c=[int(x) for x in input(\"enter the row and column: \").split()]\n",
    "str=input(\"enter the matrix element : \")\n",
    "val=reshape(matrix(str),(r,c))\n",
    "print(val)\n",
    "\n",
    "print(\"after transposition value is : \")\n",
    "m=val.transpose()\n",
    "print(m)"
   ]
  },
  {
   "cell_type": "code",
   "execution_count": 157,
   "id": "247025d5-13b7-486a-82d9-9f5deeea1a53",
   "metadata": {},
   "outputs": [],
   "source": [
    "m=val.getT()"
   ]
  },
  {
   "cell_type": "code",
   "execution_count": 158,
   "id": "611c2ff5-7c71-4bf2-a9b1-5b92c3097213",
   "metadata": {},
   "outputs": [
    {
     "data": {
      "text/plain": [
       "matrix([[1, 4],\n",
       "        [2, 5],\n",
       "        [3, 6]])"
      ]
     },
     "execution_count": 158,
     "metadata": {},
     "output_type": "execute_result"
    }
   ],
   "source": [
    "m"
   ]
  },
  {
   "cell_type": "code",
   "execution_count": 161,
   "id": "e7b08ade-a892-448b-b33c-9e7e541ac5a4",
   "metadata": {},
   "outputs": [
    {
     "name": "stdout",
     "output_type": "stream",
     "text": [
      "[[1 2 3]\n",
      " [4 5 6]]\n",
      "[[9 8 7]\n",
      " [6 5 4]]\n"
     ]
    }
   ],
   "source": [
    "a=matrix('1 2 3; 4 5 6')\n",
    "b=matrix('9 8 7; 6 5 4')\n",
    "print(a)\n",
    "print(b)"
   ]
  },
  {
   "cell_type": "code",
   "execution_count": 162,
   "id": "275b9155-2c60-45f9-a427-22f80236fbca",
   "metadata": {},
   "outputs": [
    {
     "name": "stdout",
     "output_type": "stream",
     "text": [
      "[[10 10 10]\n",
      " [10 10 10]]\n"
     ]
    }
   ],
   "source": [
    "# add\n",
    "c=a+b\n",
    "print(c)"
   ]
  },
  {
   "cell_type": "code",
   "execution_count": 163,
   "id": "466183a7-16cb-4124-9704-2c303b298529",
   "metadata": {},
   "outputs": [
    {
     "name": "stdout",
     "output_type": "stream",
     "text": [
      "[[-8 -6 -4]\n",
      " [-2  0  2]]\n"
     ]
    }
   ],
   "source": [
    "# sub \n",
    "d=a-b\n",
    "print(d)"
   ]
  },
  {
   "cell_type": "code",
   "execution_count": 164,
   "id": "ca83337e-8baa-47f0-8a8b-1abe37221be3",
   "metadata": {},
   "outputs": [
    {
     "name": "stdout",
     "output_type": "stream",
     "text": [
      "[[1.11111111 1.25       1.42857143]\n",
      " [1.66666667 2.         2.5       ]]\n"
     ]
    }
   ],
   "source": [
    "# div\n",
    "e=c/b\n",
    "print(e)"
   ]
  },
  {
   "cell_type": "code",
   "execution_count": 165,
   "id": "28b7676e-622c-46c1-9511-1e7be70cb6f2",
   "metadata": {},
   "outputs": [
    {
     "data": {
      "text/plain": [
       "matrix([[1, 2],\n",
       "        [3, 4],\n",
       "        [5, 6]])"
      ]
     },
     "execution_count": 165,
     "metadata": {},
     "output_type": "execute_result"
    }
   ],
   "source": [
    "f=matrix([[1,2],[3,4],[5,6]])\n",
    "f"
   ]
  },
  {
   "cell_type": "code",
   "execution_count": 166,
   "id": "043129c1-74cc-4dc0-be24-bb204a4a3c91",
   "metadata": {},
   "outputs": [],
   "source": [
    "g=a*f"
   ]
  },
  {
   "cell_type": "code",
   "execution_count": 167,
   "id": "f8b1abd6-81ed-4b66-ae62-5ee927a88518",
   "metadata": {},
   "outputs": [
    {
     "data": {
      "text/plain": [
       "matrix([[22, 28],\n",
       "        [49, 64]])"
      ]
     },
     "execution_count": 167,
     "metadata": {},
     "output_type": "execute_result"
    }
   ],
   "source": [
    "g"
   ]
  },
  {
   "cell_type": "code",
   "execution_count": 168,
   "id": "f788d4d2-b2ad-46ca-a557-677b10117d8e",
   "metadata": {},
   "outputs": [],
   "source": [
    "import sys"
   ]
  },
  {
   "cell_type": "code",
   "execution_count": 170,
   "id": "5f716ad6-32bd-4cd1-a5e3-1c0388291ddb",
   "metadata": {},
   "outputs": [
    {
     "name": "stdin",
     "output_type": "stream",
     "text": [
      "enter the row and column :  2 3\n",
      "enter the row and column :  3 2\n",
      "enter the 1st matrix elemnt :  1 2 3 4 5 6\n",
      "enter the 2nd matrix element :  1 0 0 2 1 3\n"
     ]
    },
    {
     "name": "stdout",
     "output_type": "stream",
     "text": [
      "the product matrix is : [[ 4 13]\n",
      " [10 28]] \n"
     ]
    }
   ],
   "source": [
    "r1,c1=[int(a) for a in input(\"enter the row and column : \").split()]\n",
    "r2,c2=[int(a) for a in input(\"enter the row and column : \").split()]\n",
    "if c1!=r2:\n",
    "    print(\"multiplication is not possible \")\n",
    "    sys.exit()\n",
    "\n",
    "str1=input(\"enter the 1st matrix elemnt : \")\n",
    "val=reshape(matrix(str1),(r1,c1))\n",
    "\n",
    "str2=input(\"enter the 2nd matrix element : \")\n",
    "val2=reshape(matrix(str2),(r2,c2))\n",
    "\n",
    "val3=val * val2\n",
    "print(\"the product matrix is : {} \".format(val3))"
   ]
  },
  {
   "cell_type": "code",
   "execution_count": 171,
   "id": "15054a49-d91e-40ec-8dbd-5651d5b88f5f",
   "metadata": {},
   "outputs": [
    {
     "data": {
      "text/plain": [
       "0.2467357016006715"
      ]
     },
     "execution_count": 171,
     "metadata": {},
     "output_type": "execute_result"
    }
   ],
   "source": [
    "# random number\n",
    "random.rand()"
   ]
  },
  {
   "cell_type": "code",
   "execution_count": 172,
   "id": "8d534b03-8993-46bf-aacf-4f042df84dfd",
   "metadata": {},
   "outputs": [],
   "source": [
    "a=random.rand(5)"
   ]
  },
  {
   "cell_type": "code",
   "execution_count": 173,
   "id": "ea2af648-a546-4b61-b490-77394a2683a7",
   "metadata": {},
   "outputs": [
    {
     "data": {
      "text/plain": [
       "array([0.78964178, 0.64688386, 0.87051878, 0.75116272, 0.25426381])"
      ]
     },
     "execution_count": 173,
     "metadata": {},
     "output_type": "execute_result"
    }
   ],
   "source": [
    "a"
   ]
  },
  {
   "cell_type": "code",
   "execution_count": 174,
   "id": "cde18274-d2dc-43cc-b570-c699320803bb",
   "metadata": {},
   "outputs": [],
   "source": [
    "b=random.rand(2,3)"
   ]
  },
  {
   "cell_type": "code",
   "execution_count": 175,
   "id": "ed10d38e-7825-4c4b-b69a-0866d3c95e4c",
   "metadata": {},
   "outputs": [
    {
     "data": {
      "text/plain": [
       "array([[0.34141571, 0.89057561, 0.51244601],\n",
       "       [0.8344769 , 0.33518825, 0.31292047]])"
      ]
     },
     "execution_count": 175,
     "metadata": {},
     "output_type": "execute_result"
    }
   ],
   "source": [
    "b"
   ]
  },
  {
   "cell_type": "code",
   "execution_count": 176,
   "id": "0b793505-eaf6-4348-89fc-ae3bb0211eb9",
   "metadata": {},
   "outputs": [
    {
     "data": {
      "text/plain": [
       "18"
      ]
     },
     "execution_count": 176,
     "metadata": {},
     "output_type": "execute_result"
    }
   ],
   "source": [
    "random.randint(10,20)"
   ]
  },
  {
   "cell_type": "code",
   "execution_count": 179,
   "id": "277b2f88-536f-4ed0-9fd0-e30f9c759152",
   "metadata": {},
   "outputs": [
    {
     "data": {
      "text/plain": [
       "array([0.87358453, 0.50952188, 0.48418618, 0.08539059, 0.39268592])"
      ]
     },
     "execution_count": 179,
     "metadata": {},
     "output_type": "execute_result"
    }
   ],
   "source": [
    "random.random_sample(5)  #0.0 to 1.0"
   ]
  }
 ],
 "metadata": {
  "kernelspec": {
   "display_name": "Python 3 (ipykernel)",
   "language": "python",
   "name": "python3"
  },
  "language_info": {
   "codemirror_mode": {
    "name": "ipython",
    "version": 3
   },
   "file_extension": ".py",
   "mimetype": "text/x-python",
   "name": "python",
   "nbconvert_exporter": "python",
   "pygments_lexer": "ipython3",
   "version": "3.11.7"
  }
 },
 "nbformat": 4,
 "nbformat_minor": 5
}
